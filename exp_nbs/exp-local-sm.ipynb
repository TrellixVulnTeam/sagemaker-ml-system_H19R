{
 "cells": [
  {
   "cell_type": "markdown",
   "id": "60297cba",
   "metadata": {},
   "source": [
    "# Prepare session"
   ]
  },
  {
   "cell_type": "code",
   "execution_count": null,
   "id": "5c510249",
   "metadata": {},
   "outputs": [],
   "source": [
    "import boto3\n",
    "import sagemaker\n",
    "from sagemaker import get_execution_role\n",
    "from sagemaker.local import LocalSession\n",
    "import s3fs\n",
    "import subprocess\n",
    "from sagemaker.s3 import S3Downloader, S3Uploader\n",
    "from pathlib import Path\n",
    "import json\n",
    "\n",
    "image_name = \"sagemaker-test\"\n",
    "ecr_namespace = image_name + \"/\"\n",
    "default_bucket = \"prod-test\"\n",
    "default_uri = \"s3://\" + default_bucket\n",
    "atf_s3_uri = default_uri + \"/sagemaker\"\n",
    "\n",
    "role = get_execution_role()\n",
    "account_id = role.split(\":\")[4]\n",
    "boto_session = boto3.Session()\n",
    "region = boto_session.region_name\n",
    "bucket = default_bucket\n",
    "\n",
    "sagemaker_session = LocalSession(boto_session=boto_session)\n",
    "sagemaker_session._default_bucket = default_bucket\n",
    "    \n",
    "s3_helper = s3fs.S3FileSystem()\n",
    "data_location_uri = default_uri + \"/training_data/full\"\n",
    "\n",
    "print(account_id)\n",
    "print(region)\n",
    "print(role)\n",
    "print(sagemaker_session)\n",
    "print(default_uri)\n",
    "print(atf_s3_uri)\n",
    "print(data_location_uri)"
   ]
  },
  {
   "cell_type": "markdown",
   "id": "be089351",
   "metadata": {},
   "source": [
    "# Dev in script mode\n",
    "(Still run locally but using SageMaker API)"
   ]
  },
  {
   "cell_type": "markdown",
   "id": "7de270e5",
   "metadata": {},
   "source": [
    "## Build image"
   ]
  },
  {
   "cell_type": "code",
   "execution_count": null,
   "id": "3e5edaa0",
   "metadata": {
    "scrolled": true
   },
   "outputs": [],
   "source": [
    "! cd container && bash build_image.sh $image_name"
   ]
  },
  {
   "cell_type": "markdown",
   "id": "1def61f2",
   "metadata": {},
   "source": [
    "## Prepare data"
   ]
  },
  {
   "cell_type": "code",
   "execution_count": null,
   "id": "88fc772f",
   "metadata": {},
   "outputs": [],
   "source": [
    "opt_ml_dir = \"/opt/ml/processing\"\n",
    "execution_id = \"exp-local-sm\"\n",
    "image_uri = f\"{image_name}:latest\"\n",
    "print(image_uri)"
   ]
  },
  {
   "cell_type": "code",
   "execution_count": null,
   "id": "ccbfcb3b",
   "metadata": {
    "scrolled": true
   },
   "outputs": [],
   "source": [
    "from sagemaker.processing import ScriptProcessor, ProcessingInput, ProcessingOutput\n",
    "\n",
    "processor = ScriptProcessor(\n",
    "    base_job_name=\"prepare-data-processor\",\n",
    "    image_uri=image_uri,\n",
    "    command=['python'], # IMPORTANT, DEPENDS ON DOCKERFILE, DON'T USE python3\n",
    "    role=role,\n",
    "    instance_count=1,\n",
    "    instance_type=\"local\",\n",
    "    max_runtime_in_seconds=1200,\n",
    ")\n",
    "\n",
    "# IMPORTANT: ProcessingOutput MUST BE A FOLDER WITHOUT ANY NESTED FOLDER INSIDE\n",
    "# Otherwise it will raise Permission Denied when it performs post processes\n",
    "# Example: source CANNOT BE \"/opt/ml/processing/output/prepared_data\" because there're 2 nested folders inside\n",
    "\n",
    "processor.run(\n",
    "    code=\"container/code/prepare_data.py\",\n",
    "    inputs=[\n",
    "        ProcessingInput(\n",
    "            source=data_location_uri,\n",
    "            destination=opt_ml_dir + \"/input\",\n",
    "        ),\n",
    "    ],\n",
    "    outputs=[\n",
    "        ProcessingOutput(\n",
    "            output_name=\"train\",\n",
    "            source=opt_ml_dir + \"/train\",\n",
    "            destination=atf_s3_uri + f\"/prepared_data/{execution_id}/train\",\n",
    "        ),\n",
    "        ProcessingOutput(\n",
    "            output_name=\"test\",\n",
    "            source=opt_ml_dir + \"/test\",\n",
    "            destination=atf_s3_uri + f\"/prepared_data/{execution_id}/test\",\n",
    "        ),\n",
    "    ],\n",
    "    arguments=[\"\"],\n",
    "    wait=True,\n",
    "    logs=True,\n",
    ")"
   ]
  },
  {
   "cell_type": "code",
   "execution_count": null,
   "id": "8e7fec23",
   "metadata": {},
   "outputs": [],
   "source": [
    "# Inspect uploaded data\n",
    "preprocessing_job_description = processor.jobs[-1].describe()\n",
    "output_config = preprocessing_job_description[\"ProcessingOutputConfig\"]\n",
    "for output in output_config[\"Outputs\"]:\n",
    "    if output[\"OutputName\"] == \"train\":\n",
    "        train_data_uri = output[\"S3Output\"][\"S3Uri\"]\n",
    "    if output[\"OutputName\"] == \"test\":\n",
    "        test_data_uri = output[\"S3Output\"][\"S3Uri\"]\n",
    "\n",
    "! aws s3 ls $train_data_uri/\n",
    "! aws s3 ls $test_data_uri/"
   ]
  },
  {
   "cell_type": "markdown",
   "id": "b59ac258",
   "metadata": {},
   "source": [
    "## Train"
   ]
  },
  {
   "cell_type": "code",
   "execution_count": null,
   "id": "21a08f6e",
   "metadata": {
    "scrolled": true
   },
   "outputs": [],
   "source": [
    "import sagemaker\n",
    "import json\n",
    "\n",
    "# JSON encode hyperparameters\n",
    "def json_encode_hyperparameters(hyperparameters):\n",
    "    return {str(k): json.dumps(v) for (k, v) in hyperparameters.items()}\n",
    "\n",
    "hyperparameters = json_encode_hyperparameters({\n",
    "    \"learning_rate\": 0.05,\n",
    "})\n",
    "\n",
    "est = sagemaker.estimator.Estimator(\n",
    "    image_uri,\n",
    "    role,\n",
    "    instance_count=1,\n",
    "    instance_type=\"local\",\n",
    "    hyperparameters=hyperparameters,\n",
    "    output_path=atf_s3_uri + f\"/model\",\n",
    "    sagemaker_session=sagemaker_session,\n",
    ")\n",
    "\n",
    "est.fit({\"train\": train_data_uri})"
   ]
  },
  {
   "cell_type": "code",
   "execution_count": null,
   "id": "50ead5f2",
   "metadata": {},
   "outputs": [],
   "source": [
    "job_name = est.latest_training_job.name\n",
    "print(job_name)"
   ]
  },
  {
   "cell_type": "code",
   "execution_count": null,
   "id": "4eb991ca",
   "metadata": {},
   "outputs": [],
   "source": [
    "training_job_description = est.jobs[-1].describe()\n",
    "model_data_s3_uri = f\"{training_job_description['ModelArtifacts']['S3ModelArtifacts']}\"\n",
    "model_data_s3_uri"
   ]
  },
  {
   "cell_type": "markdown",
   "id": "26692c72",
   "metadata": {},
   "source": [
    "## Evaluate"
   ]
  },
  {
   "cell_type": "code",
   "execution_count": null,
   "id": "10e175a8",
   "metadata": {},
   "outputs": [],
   "source": [
    "print(test_data_uri)"
   ]
  },
  {
   "cell_type": "code",
   "execution_count": null,
   "id": "42decc44",
   "metadata": {
    "scrolled": true
   },
   "outputs": [],
   "source": [
    "from sagemaker.processing import ScriptProcessor, ProcessingInput, ProcessingOutput\n",
    "\n",
    "eval_processor = ScriptProcessor(\n",
    "    base_job_name=\"evaluate-processor\",\n",
    "    image_uri=image_uri,\n",
    "    command=['python'],\n",
    "    role=role,\n",
    "    instance_count=1,\n",
    "    instance_type=\"local\",\n",
    "    max_runtime_in_seconds=1200,\n",
    ")\n",
    "\n",
    "eval_processor.run(\n",
    "    code=\"container/code/evaluate.py\",\n",
    "    inputs=[\n",
    "        ProcessingInput(\n",
    "            source=model_data_s3_uri,\n",
    "            destination=opt_ml_dir + \"/model\",\n",
    "        ),\n",
    "        ProcessingInput(\n",
    "            source=test_data_uri,\n",
    "            destination=opt_ml_dir + \"/test\",\n",
    "        ),\n",
    "    ],\n",
    "    outputs=[\n",
    "        ProcessingOutput(\n",
    "            output_name=\"evaluation\",\n",
    "            source=opt_ml_dir + \"/evaluation\",\n",
    "            destination=atf_s3_uri + f\"/evaluation/{execution_id}\",\n",
    "        ),\n",
    "    ],\n",
    "    arguments=[\"\"],\n",
    "    wait=True,\n",
    "    logs=True,\n",
    ")"
   ]
  },
  {
   "cell_type": "code",
   "execution_count": null,
   "id": "6fe76f98",
   "metadata": {},
   "outputs": [],
   "source": [
    "eval_job_description = eval_processor.jobs[-1].describe()\n",
    "eval_output_config = eval_job_description[\"ProcessingOutputConfig\"]\n",
    "for output in eval_output_config[\"Outputs\"]:\n",
    "    if output[\"OutputName\"] == \"evaluation\":\n",
    "        eval_uri = output[\"S3Output\"][\"S3Uri\"]\n",
    "        \n",
    "! aws s3 ls $eval_uri/"
   ]
  },
  {
   "cell_type": "markdown",
   "id": "67efd2b9",
   "metadata": {},
   "source": [
    "## Deploy"
   ]
  },
  {
   "cell_type": "code",
   "execution_count": null,
   "id": "305714a6",
   "metadata": {},
   "outputs": [],
   "source": [
    "from sagemaker.predictor import CSVSerializer\n",
    "predictor = est.deploy(\n",
    "    initial_instance_count=1,\n",
    "    instance_type=\"local\",\n",
    "    serializer=CSVSerializer(),\n",
    ")"
   ]
  },
  {
   "cell_type": "code",
   "execution_count": null,
   "id": "fa0d1115",
   "metadata": {},
   "outputs": [],
   "source": [
    "endpoint_name = predictor.endpoint_name\n",
    "print(endpoint_name)"
   ]
  },
  {
   "cell_type": "markdown",
   "id": "1d412e32",
   "metadata": {},
   "source": [
    "## Test endpoint"
   ]
  },
  {
   "cell_type": "code",
   "execution_count": null,
   "metadata": {},
   "outputs": [],
   "source": [
    "import pandas as pd\n",
    "s3 = boto3.client('s3')\n",
    "obj = s3.get_object(Bucket=default_bucket, Key=f'sagemaker/prepared_data/{execution_id}/train/train.csv')\n",
    "train_df = pd.read_csv(obj['Body']) # 'Body' is a key word\n",
    "train_df.head()"
   ]
  },
  {
   "cell_type": "code",
   "execution_count": null,
   "id": "1286f8c2",
   "metadata": {},
   "outputs": [],
   "source": [
    "test_data = train_df.drop(train_df.columns[[0]], axis=1)\n",
    "test_data.head()"
   ]
  },
  {
   "cell_type": "markdown",
   "id": "9a75ed08",
   "metadata": {},
   "source": [
    "### Test endpoint using predict function"
   ]
  },
  {
   "cell_type": "code",
   "execution_count": null,
   "id": "19302968",
   "metadata": {
    "scrolled": true
   },
   "outputs": [],
   "source": [
    "results = predictor.predict(test_data.values).decode('utf-8')\n",
    "list(map(float, results.split('\\n')[:-1]))"
   ]
  },
  {
   "cell_type": "markdown",
   "id": "de420ae3",
   "metadata": {},
   "source": [
    "### Test endpoint using Curl"
   ]
  },
  {
   "cell_type": "code",
   "execution_count": null,
   "id": "a32524c8",
   "metadata": {},
   "outputs": [],
   "source": [
    "test_data_str = CSVSerializer().serialize(test_data.values)\n",
    "payload_file = \"./payload\"\n",
    "with open(payload_file, \"w\") as f:\n",
    "    f.write(test_data_str)\n",
    "    \n",
    "curl_str = f\"\"\"\\\n",
    "curl -X POST \\\n",
    "http://localhost:8080/invocations \\\n",
    "--data-binary @{payload_file} \\\n",
    "-H 'Content-Type: text/csv'\\\n",
    "\"\"\"\n",
    "curl_str"
   ]
  },
  {
   "cell_type": "code",
   "execution_count": null,
   "id": "7b6d4d51",
   "metadata": {},
   "outputs": [],
   "source": [
    "subprocess.run(curl_str, shell=True).stderr"
   ]
  },
  {
   "cell_type": "code",
   "execution_count": null,
   "id": "d0943d49",
   "metadata": {},
   "outputs": [],
   "source": [
    "predictor.delete_endpoint()"
   ]
  },
  {
   "cell_type": "code",
   "execution_count": 21,
   "id": "2ab85c85",
   "metadata": {},
   "outputs": [],
   "source": [
    "! rm payload"
   ]
  },
  {
   "cell_type": "code",
   "execution_count": null,
   "id": "27022b1e",
   "metadata": {},
   "outputs": [],
   "source": []
  }
 ],
 "metadata": {
  "kernelspec": {
   "display_name": "conda_python3",
   "language": "python",
   "name": "conda_python3"
  },
  "language_info": {
   "codemirror_mode": {
    "name": "ipython",
    "version": 3
   },
   "file_extension": ".py",
   "mimetype": "text/x-python",
   "name": "python",
   "nbconvert_exporter": "python",
   "pygments_lexer": "ipython3",
   "version": "3.6.13"
  }
 },
 "nbformat": 4,
 "nbformat_minor": 5
}
