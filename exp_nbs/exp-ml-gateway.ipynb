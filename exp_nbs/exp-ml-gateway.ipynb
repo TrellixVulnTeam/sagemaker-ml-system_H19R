{
 "cells": [
  {
   "cell_type": "markdown",
   "id": "276a8387",
   "metadata": {},
   "source": [
    "# Prepare session"
   ]
  },
  {
   "cell_type": "code",
   "execution_count": null,
   "id": "f7139ad6",
   "metadata": {},
   "outputs": [],
   "source": [
    "import boto3\n",
    "import sagemaker\n",
    "from sagemaker import get_execution_role\n",
    "from sagemaker.local import LocalSession\n",
    "import s3fs\n",
    "import subprocess\n",
    "from sagemaker.s3 import S3Downloader, S3Uploader\n",
    "from pathlib import Path\n",
    "import json\n",
    "\n",
    "image_name = \"sagemaker-test\"\n",
    "ecr_namespace = image_name + \"/\"\n",
    "default_bucket = \"prod-test\"\n",
    "default_uri = \"s3://\" + default_bucket\n",
    "atf_s3_uri = default_uri + \"/sagemaker\"\n",
    "\n",
    "role = get_execution_role()\n",
    "account_id = role.split(\":\")[4]\n",
    "boto_session = boto3.Session()\n",
    "region = boto_session.region_name\n",
    "bucket = default_bucket\n",
    "\n",
    "sagemaker_session = sagemaker.Session(\n",
    "    boto_session=boto_session,\n",
    "    default_bucket=default_bucket\n",
    ")\n",
    "    \n",
    "s3_helper = s3fs.S3FileSystem()\n",
    "data_location_uri = default_uri + \"/training_data/full\"\n",
    "\n",
    "print(account_id)\n",
    "print(region)\n",
    "print(role)\n",
    "print(sagemaker_session)\n",
    "print(default_uri)\n",
    "print(atf_s3_uri)\n",
    "print(data_location_uri)"
   ]
  },
  {
   "cell_type": "markdown",
   "id": "ce16186e",
   "metadata": {},
   "source": [
    "# Dev in real"
   ]
  },
  {
   "cell_type": "markdown",
   "id": "2cf8ceec",
   "metadata": {},
   "source": [
    "## Build and push image"
   ]
  },
  {
   "cell_type": "code",
   "execution_count": null,
   "id": "1826e2be",
   "metadata": {
    "scrolled": true
   },
   "outputs": [],
   "source": [
    "! cd container && bash build_image.sh $image_name"
   ]
  },
  {
   "cell_type": "code",
   "execution_count": null,
   "id": "89822653",
   "metadata": {
    "scrolled": true
   },
   "outputs": [],
   "source": [
    "! cd container && bash push_image.sh $image_name"
   ]
  },
  {
   "cell_type": "code",
   "execution_count": null,
   "id": "e0c9c4d8",
   "metadata": {},
   "outputs": [],
   "source": [
    "ecr_client = boto3.client('ecr')\n",
    "response = ecr_client.describe_images(\n",
    "    repositoryName=image_name,\n",
    "    imageIds=[{'imageTag': 'latest'}],\n",
    ")\n",
    "str(response[\"imageDetails\"][0][\"imagePushedAt\"])"
   ]
  },
  {
   "cell_type": "markdown",
   "id": "a8fc9232",
   "metadata": {},
   "source": [
    "## Define parameters"
   ]
  },
  {
   "cell_type": "code",
   "execution_count": null,
   "id": "89119015",
   "metadata": {},
   "outputs": [],
   "source": [
    "opt_ml_dir = \"/opt/ml/processing\"\n",
    "execution_id = \"exp-real-sm\"\n",
    "image_uri = f\"{account_id}.dkr.ecr.{region}.amazonaws.com/{image_name}:latest\"\n",
    "print(image_uri)"
   ]
  },
  {
   "cell_type": "code",
   "execution_count": 6,
   "id": "0547e8d6",
   "metadata": {},
   "outputs": [],
   "source": [
    "processing_instance_count = 1\n",
    "processing_instance_type = \"ml.m5.2xlarge\"\n",
    "training_instance_type = \"ml.m5.2xlarge\""
   ]
  },
  {
   "cell_type": "markdown",
   "id": "9dc3a0c7",
   "metadata": {},
   "source": [
    "## Prepare model"
   ]
  },
  {
   "cell_type": "code",
   "execution_count": null,
   "id": "3eaf0d8c",
   "metadata": {},
   "outputs": [],
   "source": [
    "train_data_uri = atf_s3_uri + f\"/prepared_data/{execution_id}/train\"\n",
    "test_data_uri = atf_s3_uri + f\"/prepared_data/{execution_id}/test\"\n",
    "! aws s3 ls $train_data_uri/\n",
    "! aws s3 ls $test_data_uri/"
   ]
  },
  {
   "cell_type": "code",
   "execution_count": null,
   "id": "e42c3845",
   "metadata": {},
   "outputs": [],
   "source": [
    "model_data_s3_uri = atf_s3_uri + \"/model/sagemaker-test-2021-11-27-07-49-22-086/output/model.tar.gz\"\n",
    "model_data_s3_uri"
   ]
  },
  {
   "cell_type": "code",
   "execution_count": 11,
   "id": "92525d1e",
   "metadata": {},
   "outputs": [],
   "source": [
    "from sagemaker.model import Model\n",
    "model_name = \"exp-real-sm-model\"\n",
    "model = Model(\n",
    "    name=model_name,\n",
    "    image_uri=image_uri,\n",
    "    model_data=model_data_s3_uri,\n",
    "    role=role\n",
    ")"
   ]
  },
  {
   "cell_type": "markdown",
   "id": "88dfb328",
   "metadata": {},
   "source": [
    "## Deploy"
   ]
  },
  {
   "cell_type": "code",
   "execution_count": null,
   "id": "365692e5",
   "metadata": {},
   "outputs": [],
   "source": [
    "# this function returns None\n",
    "endpoint_name = \"exp-real-sm-01\"\n",
    "print(\"EndpointName={}\".format(endpoint_name))\n",
    "\n",
    "predictor = model.deploy(\n",
    "    initial_instance_count=1,\n",
    "    instance_type=training_instance_type,\n",
    "    endpoint_name=endpoint_name,\n",
    ")"
   ]
  },
  {
   "cell_type": "code",
   "execution_count": 13,
   "id": "f5412545",
   "metadata": {},
   "outputs": [],
   "source": [
    "from sagemaker.predictor import Predictor\n",
    "from sagemaker.predictor import CSVSerializer\n",
    "predictor = Predictor(\n",
    "    endpoint_name=endpoint_name,\n",
    "    sagemaker_session=sagemaker_session,\n",
    "    serializer=CSVSerializer()\n",
    ")"
   ]
  },
  {
   "cell_type": "code",
   "execution_count": null,
   "id": "a5d738fa",
   "metadata": {},
   "outputs": [],
   "source": [
    "endpoint_name = predictor.endpoint_name\n",
    "runtime = boto3.Session().client(\"runtime.sagemaker\")\n",
    "print(endpoint_name)\n",
    "print(runtime)"
   ]
  },
  {
   "cell_type": "markdown",
   "id": "fac3db30",
   "metadata": {},
   "source": [
    "## Test endpoint"
   ]
  },
  {
   "cell_type": "code",
   "execution_count": null,
   "id": "d46a5ac3",
   "metadata": {},
   "outputs": [],
   "source": [
    "import pandas as pd\n",
    "s3 = boto3.client('s3')\n",
    "obj = s3.get_object(Bucket=default_bucket, Key=f'sagemaker/prepared_data/{execution_id}/train/train.csv')\n",
    "train_df = pd.read_csv(obj['Body']) # 'Body' is a key word\n",
    "train_df.head()"
   ]
  },
  {
   "cell_type": "code",
   "execution_count": null,
   "id": "01da9d7f",
   "metadata": {},
   "outputs": [],
   "source": [
    "test_data = train_df.drop(train_df.columns[[0]], axis=1)\n",
    "test_data.head()"
   ]
  },
  {
   "cell_type": "markdown",
   "id": "1472b8c6",
   "metadata": {},
   "source": [
    "### Test endpoint using predict function"
   ]
  },
  {
   "cell_type": "code",
   "execution_count": null,
   "id": "683343bf",
   "metadata": {
    "scrolled": true
   },
   "outputs": [],
   "source": [
    "def format_results(results):\n",
    "    return list(map(float, results.split('\\n')[:-1]))\n",
    "results = predictor.predict(test_data.values).decode('utf-8')\n",
    "format_results(results)"
   ]
  },
  {
   "cell_type": "markdown",
   "id": "b4bdadd1",
   "metadata": {},
   "source": [
    "### Test endpoint using invoke_endpoint function"
   ]
  },
  {
   "cell_type": "code",
   "execution_count": null,
   "id": "d7e819d5",
   "metadata": {
    "scrolled": true
   },
   "outputs": [],
   "source": [
    "response = runtime.invoke_endpoint(\n",
    "    EndpointName=endpoint_name,\n",
    "    Body=CSVSerializer().serialize(test_data.values),\n",
    "    ContentType='text/csv',\n",
    ")\n",
    "format_results(response['Body'].read().decode())"
   ]
  },
  {
   "cell_type": "code",
   "execution_count": null,
   "id": "9db2d50c",
   "metadata": {
    "scrolled": true
   },
   "outputs": [],
   "source": [
    "body = CSVSerializer().serialize(test_data.values[:2])\n",
    "body"
   ]
  },
  {
   "cell_type": "code",
   "execution_count": null,
   "id": "8259fe22",
   "metadata": {},
   "outputs": [],
   "source": [
    "response = runtime.invoke_endpoint(\n",
    "    EndpointName=endpoint_name,\n",
    "    Body=body,\n",
    "    ContentType='text/csv',\n",
    ")\n",
    "format_results(response['Body'].read().decode())"
   ]
  },
  {
   "cell_type": "markdown",
   "id": "e40a696f",
   "metadata": {},
   "source": [
    "### Test endpoint using invoke_endpoint command line"
   ]
  },
  {
   "cell_type": "code",
   "execution_count": null,
   "id": "04577c9d",
   "metadata": {
    "scrolled": true
   },
   "outputs": [],
   "source": [
    "test_data_str = CSVSerializer().serialize(test_data.values)\n",
    "payload_file = \"./payload\"\n",
    "with open(payload_file, \"w\") as f:\n",
    "    f.write(test_data_str)\n",
    "! aws sagemaker-runtime invoke-endpoint --endpoint-name $endpoint_name --body fileb://./payload --content-type text/csv outfile.txt && cat outfile.txt"
   ]
  },
  {
   "cell_type": "code",
   "execution_count": null,
   "id": "b9c41d23",
   "metadata": {
    "scrolled": true
   },
   "outputs": [],
   "source": [
    "# print out logs from Cloud Watch\n",
    "logs = boto3.client(\"logs\")\n",
    "\n",
    "log_res = logs.describe_log_streams(\n",
    "    logGroupName=f\"/aws/sagemaker/Endpoints/{endpoint_name}\"\n",
    ")\n",
    "\n",
    "for log_stream in log_res[\"logStreams\"]:\n",
    "    # get one log event\n",
    "    log_event = logs.get_log_events(\n",
    "        logGroupName=f\"/aws/sagemaker/Endpoints/{endpoint_name}\", logStreamName=log_stream[\"logStreamName\"]\n",
    "    )\n",
    "\n",
    "    # print out messages from the log event\n",
    "    for ev in log_event[\"events\"]:\n",
    "        for k, v in ev.items():\n",
    "            if k == \"message\":\n",
    "                print(v)"
   ]
  },
  {
   "cell_type": "markdown",
   "id": "08348035",
   "metadata": {},
   "source": [
    "## Build lambda container"
   ]
  },
  {
   "cell_type": "markdown",
   "id": "25a85071",
   "metadata": {},
   "source": [
    "### Build real lambda image"
   ]
  },
  {
   "cell_type": "code",
   "execution_count": null,
   "id": "2904286b",
   "metadata": {
    "scrolled": true
   },
   "outputs": [],
   "source": [
    "lambda_real = \"lambda-test\"\n",
    "! cd container && bash build_image.sh $lambda_real Dockerfile.lambda.ecr"
   ]
  },
  {
   "cell_type": "code",
   "execution_count": null,
   "id": "3e844ba3",
   "metadata": {
    "scrolled": true
   },
   "outputs": [],
   "source": [
    "! cd container && bash push_image.sh $lambda_real"
   ]
  },
  {
   "cell_type": "markdown",
   "id": "14262a3f",
   "metadata": {},
   "source": [
    "Manually create/update lambda function using the above pushed image.\n",
    "\n",
    "Config:\n",
    "- Memory: 512MB\n",
    "- Timeout: 20s\n",
    "\n",
    "Make sure lambda role allows:\n",
    "- All sagemaker resources\n",
    "    - \"sagemaker:InvokeEndpoint\"\n",
    "    - \"sagemaker:GetRecord\"\n",
    "    - \"sagemaker:PutRecord\"\n",
    "- S3 bucket: prod-test*\n",
    "    - List, Read\n",
    "\n",
    "Use payload file's content to test the lambda function\n",
    "\n",
    "Create trigger API Gateway"
   ]
  },
  {
   "cell_type": "code",
   "execution_count": null,
   "metadata": {},
   "outputs": [],
   "source": [
    "# Create your own payload file\n",
    "payload = \"./payload\""
   ]
  },
  {
   "cell_type": "code",
   "execution_count": null,
   "id": "822c2b1c",
   "metadata": {},
   "outputs": [],
   "source": [
    "# Test API Gateway\n",
    "api_gateway_url = \"https://xc8mtwmk9e.execute-api.ap-southeast-1.amazonaws.com/deploy/lambda-test\"\n",
    "! curl -XPOST $api_gateway_url --data-binary @payload"
   ]
  },
  {
   "cell_type": "markdown",
   "id": "f43653b4",
   "metadata": {},
   "source": [
    "## Clean"
   ]
  },
  {
   "cell_type": "code",
   "execution_count": 32,
   "id": "9321c508",
   "metadata": {},
   "outputs": [],
   "source": [
    "predictor.delete_endpoint()"
   ]
  },
  {
   "cell_type": "code",
   "execution_count": 33,
   "id": "32db5ed7",
   "metadata": {},
   "outputs": [],
   "source": [
    "model.delete_model()"
   ]
  },
  {
   "cell_type": "code",
   "execution_count": 34,
   "id": "6c1a2271",
   "metadata": {},
   "outputs": [],
   "source": [
    "! rm payload && rm outfile.txt && rm test.wav"
   ]
  },
  {
   "cell_type": "markdown",
   "id": "a2abda1e",
   "metadata": {},
   "source": [
    "Delete lambda function and API Gateway"
   ]
  },
  {
   "cell_type": "code",
   "execution_count": null,
   "id": "a86ec975",
   "metadata": {},
   "outputs": [],
   "source": []
  }
 ],
 "metadata": {
  "kernelspec": {
   "display_name": "conda_python3",
   "language": "python",
   "name": "conda_python3"
  },
  "language_info": {
   "codemirror_mode": {
    "name": "ipython",
    "version": 3
   },
   "file_extension": ".py",
   "mimetype": "text/x-python",
   "name": "python",
   "nbconvert_exporter": "python",
   "pygments_lexer": "ipython3",
   "version": "3.6.13"
  }
 },
 "nbformat": 4,
 "nbformat_minor": 5
}
