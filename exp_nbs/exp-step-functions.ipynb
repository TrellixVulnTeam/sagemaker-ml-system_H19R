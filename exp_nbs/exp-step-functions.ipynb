{
 "cells": [
  {
   "cell_type": "markdown",
   "id": "f65e2911",
   "metadata": {},
   "source": [
    "# Prepare session"
   ]
  },
  {
   "cell_type": "code",
   "execution_count": null,
   "id": "00cba94f",
   "metadata": {},
   "outputs": [],
   "source": [
    "import boto3\n",
    "import sagemaker\n",
    "from sagemaker import get_execution_role\n",
    "from sagemaker.local import LocalSession\n",
    "import s3fs\n",
    "import subprocess\n",
    "from sagemaker.s3 import S3Downloader, S3Uploader\n",
    "from pathlib import Path\n",
    "import json\n",
    "\n",
    "image_name = \"sagemaker-test\"\n",
    "ecr_namespace = image_name + \"/\"\n",
    "default_bucket = \"prod-test\"\n",
    "default_uri = \"s3://\" + default_bucket\n",
    "atf_s3_uri = default_uri + \"/sagemaker\"\n",
    "\n",
    "role = get_execution_role()\n",
    "account_id = role.split(\":\")[4]\n",
    "boto_session = boto3.Session()\n",
    "region = boto_session.region_name\n",
    "bucket = default_bucket\n",
    "\n",
    "sagemaker_session = sagemaker.Session(\n",
    "    boto_session=boto_session,\n",
    "    default_bucket=default_bucket\n",
    ")\n",
    "    \n",
    "s3_helper = s3fs.S3FileSystem()\n",
    "data_location_uri = default_uri + \"/training_data/full\"\n",
    "\n",
    "print(account_id)\n",
    "print(region)\n",
    "print(role)\n",
    "print(sagemaker_session)\n",
    "print(default_uri)\n",
    "print(atf_s3_uri)\n",
    "print(data_location_uri)"
   ]
  },
  {
   "cell_type": "markdown",
   "id": "91913133",
   "metadata": {},
   "source": [
    "# Dev in real"
   ]
  },
  {
   "cell_type": "markdown",
   "id": "a580646b",
   "metadata": {},
   "source": [
    "## Build and push image"
   ]
  },
  {
   "cell_type": "code",
   "execution_count": null,
   "id": "2ef08225",
   "metadata": {},
   "outputs": [],
   "source": [
    "ecr_client = boto3.client('ecr')\n",
    "response = ecr_client.describe_images(\n",
    "    repositoryName=image_name,\n",
    "    imageIds=[{'imageTag': 'latest'}],\n",
    ")\n",
    "str(response[\"imageDetails\"][0][\"imagePushedAt\"])"
   ]
  },
  {
   "cell_type": "markdown",
   "id": "074c8058",
   "metadata": {},
   "source": [
    "## Define parameters"
   ]
  },
  {
   "cell_type": "code",
   "execution_count": null,
   "id": "c6e7a512",
   "metadata": {},
   "outputs": [],
   "source": [
    "opt_ml_dir = \"/opt/ml/processing\"\n",
    "execution_id = \"exp-real-sm\"\n",
    "image_uri = f\"{account_id}.dkr.ecr.{region}.amazonaws.com/{image_name}:latest\"\n",
    "print(image_uri)"
   ]
  },
  {
   "cell_type": "code",
   "execution_count": null,
   "id": "8edee699",
   "metadata": {},
   "outputs": [],
   "source": [
    "processing_instance_count = 1\n",
    "processing_instance_type = \"ml.m5.2xlarge\"\n",
    "training_instance_type = \"ml.m5.2xlarge\""
   ]
  },
  {
   "cell_type": "markdown",
   "id": "a44af05a",
   "metadata": {},
   "source": [
    "## Prepare data"
   ]
  },
  {
   "cell_type": "code",
   "execution_count": null,
   "id": "29866b3e",
   "metadata": {},
   "outputs": [],
   "source": [
    "train_data_uri = atf_s3_uri + f\"/prepared_data/{execution_id}/train\"\n",
    "test_data_uri = atf_s3_uri + f\"/prepared_data/{execution_id}/test\"\n",
    "! aws s3 ls $train_data_uri/\n",
    "! aws s3 ls $test_data_uri/"
   ]
  },
  {
   "cell_type": "markdown",
   "id": "a1bfbddf",
   "metadata": {},
   "source": [
    "## Train"
   ]
  },
  {
   "cell_type": "code",
   "execution_count": null,
   "id": "6bdf1b29",
   "metadata": {
    "scrolled": true
   },
   "outputs": [],
   "source": [
    "! pip install stepfunctions"
   ]
  },
  {
   "cell_type": "code",
   "execution_count": null,
   "id": "ebc2e184",
   "metadata": {},
   "outputs": [],
   "source": [
    "import stepfunctions\n",
    "from stepfunctions import steps\n",
    "from stepfunctions.inputs import ExecutionInput\n",
    "from stepfunctions.workflow import Workflow\n",
    "\n",
    "input_data = {\n",
    "    \"TrainingUri\": f\"{train_data_uri}\",\n",
    "    \"TestUri\": f\"{test_data_uri}\",\n",
    "    \"BaselineUri\": f\"{train_data_uri}/train/train.csv\",\n",
    "}\n",
    "hyperparameters = {\"learning_rate\": 0.05}\n",
    "\n",
    "ecr_image_name = \"sagemaker-test\"\n",
    "image_detail = {\n",
    "    \"ImageUri\": f\"{account_id}.dkr.ecr.{region}.amazonaws.com/{ecr_image_name}:latest\",\n",
    "}\n",
    "\n",
    "output_data = {\n",
    "    \"ModelOutputUri\": atf_s3_uri + \"/model\",\n",
    "}\n",
    "\n",
    "execution_input = ExecutionInput(\n",
    "    schema={\n",
    "        \"PreprocessingJobName\": str,\n",
    "        \"TrainingJobName\": str,\n",
    "        \"EvaluationProcessingJobName\": str,\n",
    "    }\n",
    ")\n",
    "input_data"
   ]
  },
  {
   "cell_type": "markdown",
   "metadata": {},
   "source": [
    "## Test evaluation step"
   ]
  },
  {
   "cell_type": "code",
   "execution_count": null,
   "id": "0a7a8f39",
   "metadata": {},
   "outputs": [],
   "source": [
    "from sagemaker.processing import ProcessingInput, ProcessingOutput, ScriptProcessor\n",
    "\n",
    "model_data_s3_uri = \"s3://prod-test/sagemaker/model/exp-step-functions-979a5224513111ecad540a957bd2374c/output/model.tar.gz\"\n",
    "MODELEVALUATION_SCRIPT_LOCATION = \"./container/code/evaluate.py\"\n",
    "\n",
    "input_evaluation_code = sagemaker_session.upload_data(\n",
    "    MODELEVALUATION_SCRIPT_LOCATION,\n",
    "    bucket=default_bucket,\n",
    "    key_prefix=f\"sagemaker/evaluation/{execution_id}\",\n",
    ")\n",
    "\n",
    "model_evaluation_processor = ScriptProcessor(\n",
    "    image_uri=image_uri,\n",
    "    command=[\"python\"],\n",
    "    role=role,\n",
    "    instance_count=processing_instance_count,\n",
    "    instance_type=processing_instance_type,\n",
    "    max_runtime_in_seconds=1200,\n",
    ")\n",
    "processing_evaluation_step = steps.ProcessingStep(\n",
    "    \"SageMaker Processing Model Evaluation step\",\n",
    "    processor=model_evaluation_processor,\n",
    "    job_name=execution_input[\"EvaluationProcessingJobName\"],\n",
    "    inputs=[\n",
    "        ProcessingInput(\n",
    "            input_name=\"input-1\",\n",
    "            source=model_data_s3_uri,\n",
    "            destination=opt_ml_dir + \"/model\",\n",
    "        ),\n",
    "        ProcessingInput(\n",
    "            input_name=\"input-2\",\n",
    "            source=test_data_uri,\n",
    "            destination=opt_ml_dir + \"/test\",\n",
    "        ),\n",
    "        ProcessingInput(\n",
    "            input_name=\"code\",\n",
    "            source=input_evaluation_code,\n",
    "            destination=opt_ml_dir + \"/input/code\",\n",
    "        ),\n",
    "    ],\n",
    "    outputs=[\n",
    "        ProcessingOutput(\n",
    "            output_name=\"evaluation\",\n",
    "            source=opt_ml_dir + \"/evaluation\",\n",
    "            destination=atf_s3_uri + f\"/evaluation/{execution_id}\",\n",
    "        ),\n",
    "    ],\n",
    "    container_entrypoint=[\"python\", \"/opt/ml/processing/input/code/evaluate.py\"],\n",
    ")"
   ]
  },
  {
   "cell_type": "code",
   "execution_count": null,
   "id": "832119f6",
   "metadata": {},
   "outputs": [],
   "source": [
    "failed_state_sagemaker_processing_failure = stepfunctions.steps.states.Fail(\n",
    "    \"ML Workflow failed\", cause=\"SageMakerProcessingJobFailed\"\n",
    ")\n",
    "catch_state_processing = stepfunctions.steps.states.Catch(\n",
    "    error_equals=[\"States.TaskFailed\"],\n",
    "    next_step=failed_state_sagemaker_processing_failure,\n",
    ")\n",
    "\n",
    "processing_evaluation_step.add_catch(catch_state_processing)\n",
    "# training_step.add_catch(catch_state_processing)"
   ]
  },
  {
   "cell_type": "code",
   "execution_count": null,
   "id": "2044dab7",
   "metadata": {},
   "outputs": [],
   "source": [
    "import uuid\n",
    "evaluation_job_name = \"exp-step-functions-evaluation-4a7f963e513611ec9c140a957bd2374c\"\n",
    "# evaluation_job_name = \"exp-step-functions-evaluation-{}\".format(\n",
    "#     uuid.uuid1().hex\n",
    "# )  # Each Evaluation Job requires a unique name"
   ]
  },
  {
   "cell_type": "code",
   "execution_count": null,
   "id": "5ce1f1cf",
   "metadata": {},
   "outputs": [],
   "source": [
    "from sagemaker.s3 import S3Downloader\n",
    "import json\n",
    "\n",
    "sm_client = boto3.client(\"sagemaker\")\n",
    "def lambda_handler(event, context):\n",
    "    if \"EvaluationProcessingJobName\" in event:\n",
    "        job_name = event[\"EvaluationProcessingJobName\"]\n",
    "    else:\n",
    "        raise KeyError(\"EvaluationProcessingJobName not found for event: {}.\".format(json.dumps(event)))\n",
    "    \n",
    "    # Get the processing job\n",
    "    response = sm_client.describe_processing_job(ProcessingJobName=job_name)\n",
    "    status = response[\"ProcessingJobStatus\"]\n",
    "#     logger.info(\"Processing job:{} has status:{}\".format(job_name, status))\n",
    "    \n",
    "    # Get the metrics as a dictionary\n",
    "    evaluation_output_config = response[\"ProcessingOutputConfig\"]\n",
    "    for output in evaluation_output_config[\"Outputs\"]:\n",
    "        if output[\"OutputName\"] == \"evaluation\":\n",
    "            evaluation_s3_uri = \"{}/{}\".format(output[\"S3Output\"][\"S3Uri\"], \"eval.json\")\n",
    "            break\n",
    "\n",
    "    evaluation_output = S3Downloader.read_file(evaluation_s3_uri)\n",
    "    evaluation_output_dict = json.loads(evaluation_output)\n",
    "    return {\n",
    "        \"statusCode\": 200,\n",
    "        \"results\": {\n",
    "            \"TrainingJobName\": job_name,\n",
    "            \"TrainingJobStatus\": status,\n",
    "            \"TrainingMetrics\": evaluation_output_dict,\n",
    "        },\n",
    "    }\n",
    "\n",
    "lambda_handler({\"EvaluationProcessingJobName\": evaluation_job_name}, None)"
   ]
  },
  {
   "cell_type": "code",
   "execution_count": null,
   "id": "1e8b143d",
   "metadata": {},
   "outputs": [],
   "source": [
    "training_query_step = steps.compute.LambdaStep(\n",
    "    \"Query Training Results\",\n",
    "    parameters={\n",
    "        \"FunctionName\": query_training_function_name,\n",
    "        \"Payload\": {\"EvaluationProcessingJobName.$\": \"$.EvaluationProcessingJobName\"},\n",
    "    },\n",
    "    result_path=\"$.QueryTrainingResults\",\n",
    ")\n",
    "\n",
    "check_accuracy_fail_step = steps.states.Fail(\n",
    "    \"Model Error Too Low\", comment=\"RMSE accuracy higher than threshold\"\n",
    ")\n",
    "\n",
    "check_accuracy_succeed_step = steps.states.Succeed(\"Model Error Acceptable\")\n",
    "\n",
    "# TODO: Update query method to query validation error using better result path\n",
    "threshold_rule = steps.choice_rule.ChoiceRule.NumericLessThan(\n",
    "    variable=training_query_step.output()[\"QueryTrainingResults\"][\"Payload\"][\"results\"][\n",
    "        \"TrainingMetrics\"\n",
    "    ][0][\"Value\"],\n",
    "    value=10,\n",
    ")\n",
    "\n",
    "check_accuracy_step = steps.states.Choice(\"RMSE < 10\")\n",
    "\n",
    "check_accuracy_step.add_choice(rule=threshold_rule, next_step=check_accuracy_succeed_step)\n",
    "check_accuracy_step.default_choice(next_step=check_accuracy_fail_step)"
   ]
  },
  {
   "cell_type": "code",
   "execution_count": null,
   "id": "21bdf655",
   "metadata": {},
   "outputs": [],
   "source": [
    "model_name = \"exp-step-functions-evaluation\"\n",
    "workflow_role_arn = \"arn:aws:iam::852039983533:role/AmazonSageMaker-StepFunctionsWorkflowExecutionRole\"\n",
    "\n",
    "workflow_definition = steps.states.Chain([processing_evaluation_step])\n",
    "workflow = Workflow(model_name, workflow_definition, workflow_role_arn)"
   ]
  },
  {
   "cell_type": "code",
   "execution_count": null,
   "id": "b378d442",
   "metadata": {},
   "outputs": [],
   "source": [
    "workflow.create()\n",
    "execution = workflow.execute(\n",
    "    inputs={\n",
    "        \"EvaluationProcessingJobName\": evaluation_job_name,  # Each SageMaker processing job requires a unique name,\n",
    "    }\n",
    ")\n",
    "execution_output = execution.get_output(wait=True)"
   ]
  },
  {
   "cell_type": "code",
   "execution_count": null,
   "id": "af8963a3",
   "metadata": {},
   "outputs": [],
   "source": [
    "workflow.delete()"
   ]
  },
  {
   "cell_type": "markdown",
   "id": "2a774a6b",
   "metadata": {},
   "source": [
    "## Test Training step"
   ]
  },
  {
   "cell_type": "code",
   "execution_count": null,
   "id": "7ba37644",
   "metadata": {},
   "outputs": [],
   "source": [
    "est = sagemaker.estimator.Estimator(\n",
    "    image_uri,\n",
    "    role,\n",
    "    instance_count=1,\n",
    "    instance_type=training_instance_type,\n",
    "    hyperparameters=hyperparameters,\n",
    "    output_path=output_data[\"ModelOutputUri\"],  # NOTE: Can't use execution_input here\n",
    "    max_run=1200,  # timeout in seconds\n",
    "    use_spot_instances=True,\n",
    "    max_wait=1200,  # <= max_run\n",
    ")\n",
    "\n",
    "# Specify the data source\n",
    "s3_input_train = sagemaker.inputs.TrainingInput(\n",
    "    s3_data=input_data[\"TrainingUri\"]\n",
    ")\n",
    "data = {\"train\": s3_input_train}\n",
    "\n",
    "# Create the training step\n",
    "training_step = steps.TrainingStep(\n",
    "    \"Training Job\",\n",
    "    estimator=est,\n",
    "    data=data,\n",
    "    job_name=execution_input[\"TrainingJobName\"],\n",
    "    result_path=\"$.TrainingResults\",\n",
    ")"
   ]
  },
  {
   "cell_type": "code",
   "execution_count": null,
   "id": "a137efd3",
   "metadata": {},
   "outputs": [],
   "source": [
    "model_name = \"exp-step-functions-model\"\n",
    "workflow_role_arn = \"arn:aws:iam::852039983533:role/AmazonSageMaker-StepFunctionsWorkflowExecutionRole\"\n",
    "\n",
    "workflow_definition = steps.states.Chain([training_step])\n",
    "workflow = Workflow(model_name, workflow_definition, workflow_role_arn)"
   ]
  },
  {
   "cell_type": "code",
   "execution_count": null,
   "id": "c1270612",
   "metadata": {},
   "outputs": [],
   "source": [
    "import uuid\n",
    "workflow.create()\n",
    "training_job_name = \"exp-step-functions-{}\".format(\n",
    "    uuid.uuid1().hex\n",
    ")  # Each Training Job requires a unique name\n",
    "execution = workflow.execute(\n",
    "    inputs={\n",
    "        \"TrainingJobName\": training_job_name,  # Each Sagemaker Training job requires a unique name,\n",
    "    }\n",
    ")\n",
    "execution_output = execution.get_output(wait=True)"
   ]
  },
  {
   "cell_type": "code",
   "execution_count": null,
   "id": "47d09ecd",
   "metadata": {},
   "outputs": [],
   "source": [
    "execution_output"
   ]
  },
  {
   "cell_type": "code",
   "execution_count": null,
   "id": "dabae925",
   "metadata": {},
   "outputs": [],
   "source": []
  }
 ],
 "metadata": {
  "kernelspec": {
   "display_name": "conda_python3",
   "language": "python",
   "name": "conda_python3"
  },
  "language_info": {
   "codemirror_mode": {
    "name": "ipython",
    "version": 3
   },
   "file_extension": ".py",
   "mimetype": "text/x-python",
   "name": "python",
   "nbconvert_exporter": "python",
   "pygments_lexer": "ipython3",
   "version": "3.6.13"
  }
 },
 "nbformat": 4,
 "nbformat_minor": 5
}
